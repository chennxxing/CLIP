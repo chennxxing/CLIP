{
 "cells": [
  {
   "cell_type": "code",
   "execution_count": 1,
   "metadata": {
    "collapsed": true,
    "ExecuteTime": {
     "end_time": "2023-10-26T06:29:10.313147825Z",
     "start_time": "2023-10-26T06:29:09.130413623Z"
    }
   },
   "outputs": [],
   "source": [
    "import torch\n",
    "import torchvision\n",
    "import torchvision.datasets as datasets\n",
    "import numpy as np\n",
    "import os\n",
    "import shutil"
   ]
  },
  {
   "cell_type": "code",
   "execution_count": 2,
   "outputs": [
    {
     "name": "stdout",
     "output_type": "stream",
     "text": [
      "Files already downloaded and verified\n",
      "Files already downloaded and verified\n"
     ]
    }
   ],
   "source": [
    "# create training dataset\n",
    "cifar_trainset = datasets.CIFAR10(root='./data', train=True, download=True, transform=None)\n",
    "cifar_testset = datasets.CIFAR10(root='./data', train=True, download=True, transform=None)"
   ],
   "metadata": {
    "collapsed": false,
    "ExecuteTime": {
     "end_time": "2023-10-26T06:29:11.492639194Z",
     "start_time": "2023-10-26T06:29:10.313742750Z"
    }
   }
  },
  {
   "cell_type": "code",
   "execution_count": 3,
   "outputs": [],
   "source": [
    "#set seed\n",
    "np.random.seed(6)\n",
    "\n",
    "train_data_ori = cifar_trainset.data\n",
    "train_label_ori = np.array(cifar_trainset.targets)\n",
    "test_data_ori = cifar_testset.data\n",
    "test_label_ori = np.array(cifar_testset.targets)"
   ],
   "metadata": {
    "collapsed": false,
    "ExecuteTime": {
     "end_time": "2023-10-26T06:29:16.310332923Z",
     "start_time": "2023-10-26T06:29:16.307484943Z"
    }
   }
  },
  {
   "cell_type": "code",
   "execution_count": 8,
   "outputs": [],
   "source": [
    "### experiment 0\n",
    "normal_data_train = train_data_ori[train_label_ori ==0,:]\n",
    "np.random.shuffle(normal_data_train)\n",
    "\n",
    "train_data_sample = normal_data_train[:4096,:]\n",
    "validate_data_sample = normal_data_train[-512:,:]\n",
    "\n",
    "anomaly_data = train_data_ori[train_label_ori !=0,:]\n",
    "np.random.shuffle(anomaly_data)\n",
    "anomaly_data_sample = anomaly_data[:512,:]\n",
    "\n",
    "normal_data_test = test_data_ori[(test_label_ori == 0) ,:]\n",
    "np.random.shuffle(normal_data_test)\n",
    "test_data_sample = normal_data_test[:512,:]\n",
    "\n",
    "train_label = np.zeros((4096,1))\n",
    "test_label = np.zeros((512,1))\n",
    "validate_label = np.zeros((512,1))\n",
    "anomaly_label = np.zeros((512,1))\n",
    "\n",
    "folder = \"./paperdata_cifar/\" + str(0) + \"/\"\n",
    "#if os.path.exists(folder):\n",
    "#    shutil.rmtree(folder)\n",
    "#os.makedirs(folder)\n",
    "\n",
    "np.save(folder+\"normal_data.npy\",train_data_sample)\n",
    "np.save(folder+\"normal_label.npy\",train_label)\n",
    "np.save(folder+\"abnormal_data.npy\",anomaly_data_sample)\n",
    "np.save(folder+\"abnormal_label.npy\",anomaly_label)\n",
    "np.save(folder+\"normal_test_data.npy\",test_data_sample)\n",
    "np.save(folder+\"normal_test_label.npy\",test_label)\n",
    "np.save(folder+\"normal_validate_data.npy\",validate_data_sample)\n",
    "np.save(folder+\"normal_validate_label.npy\",validate_label)"
   ],
   "metadata": {
    "collapsed": false,
    "ExecuteTime": {
     "end_time": "2023-10-05T06:00:08.828402635Z",
     "start_time": "2023-10-05T06:00:08.429495651Z"
    }
   }
  },
  {
   "cell_type": "code",
   "execution_count": 54,
   "outputs": [
    {
     "data": {
      "text/plain": "(512, 32, 32, 3)"
     },
     "execution_count": 54,
     "metadata": {},
     "output_type": "execute_result"
    }
   ],
   "source": [
    "anomaly_data_sample.shape"
   ],
   "metadata": {
    "collapsed": false
   }
  },
  {
   "cell_type": "code",
   "execution_count": 4,
   "outputs": [],
   "source": [
    "## experiment 1\n",
    "normal_data_train = train_data_ori[(train_label_ori !=2) & (train_label_ori !=3) & (train_label_ori !=4) & (train_label_ori !=5) & (train_label_ori !=6),:]\n",
    "np.random.shuffle(normal_data_train)\n",
    "\n",
    "train_data_sample = normal_data_train[:4096,:]\n",
    "validate_data_sample = normal_data_train[-512:,:]\n",
    "\n",
    "anomaly_data = train_data_ori[(train_label_ori ==2) | (train_label_ori ==3) | (train_label_ori ==4) | (train_label_ori ==5) | (train_label_ori ==6),:]\n",
    "np.random.shuffle(anomaly_data)\n",
    "anomaly_data_sample = anomaly_data[:512,:]\n",
    "\n",
    "normal_data_test = test_data_ori[(test_label_ori !=2) & (test_label_ori !=3) & (test_label_ori !=4) & (test_label_ori !=5) & (test_label_ori !=6),:]\n",
    "np.random.shuffle(normal_data_test)\n",
    "test_data_sample = normal_data_test[:512,:]\n",
    "\n",
    "train_label = np.zeros((4096,1))\n",
    "test_label = np.zeros((512,1))\n",
    "validate_label = np.zeros((512,1))\n",
    "anomaly_label = np.zeros((512,1))\n",
    "\n",
    "folder = \"./paperdata_cifar/\" + \"01789\" + \"/\"\n",
    "#if os.path.exists(folder):\n",
    "#    shutil.rmtree(folder)\n",
    "#os.makedirs(folder)\n",
    "\n",
    "np.save(folder+\"normal_data.npy\",train_data_sample)\n",
    "np.save(folder+\"normal_label.npy\",train_label)\n",
    "np.save(folder+\"abnormal_data.npy\",anomaly_data_sample)\n",
    "np.save(folder+\"abnormal_label.npy\",anomaly_label)\n",
    "np.save(folder+\"normal_test_data.npy\",test_data_sample)\n",
    "np.save(folder+\"normal_test_label.npy\",test_label)\n",
    "np.save(folder+\"normal_validate_data.npy\",validate_data_sample)\n",
    "np.save(folder+\"normal_validate_label.npy\",validate_label)"
   ],
   "metadata": {
    "collapsed": false,
    "ExecuteTime": {
     "end_time": "2023-10-26T06:30:46.046875828Z",
     "start_time": "2023-10-26T06:30:45.605252798Z"
    }
   }
  },
  {
   "cell_type": "code",
   "execution_count": 57,
   "outputs": [],
   "source": [
    "## experiment 2\n",
    "normal_data_train = train_data_ori[(train_label_ori !=4) & (train_label_ori !=5) & (train_label_ori !=6) & (train_label_ori !=7) & (train_label_ori !=8),:]\n",
    "np.random.shuffle(normal_data_train)\n",
    "\n",
    "train_data_sample = normal_data_train[:4096,:]\n",
    "validate_data_sample = normal_data_train[-512:,:]\n",
    "\n",
    "anomaly_data = train_data_ori[(train_label_ori ==4) | (train_label_ori ==5) | (train_label_ori ==6) | (train_label_ori ==7) | (train_label_ori ==8),:]\n",
    "np.random.shuffle(anomaly_data)\n",
    "anomaly_data_sample = anomaly_data[:512,:]\n",
    "\n",
    "normal_data_test = test_data_ori[(test_label_ori !=4) & (test_label_ori !=5) & (test_label_ori !=6) & (test_label_ori !=7) & (test_label_ori !=8),:]\n",
    "np.random.shuffle(normal_data_test)\n",
    "test_data_sample = normal_data_test[:512,:]\n",
    "\n",
    "train_label = np.zeros((4096,1))\n",
    "test_label = np.zeros((512,1))\n",
    "validate_label = np.zeros((512,1))\n",
    "anomaly_label = np.zeros((512,1))\n",
    "\n",
    "folder = \"./paperdata_cifar/\" + str(2) + \"/\"\n",
    "#if os.path.exists(folder):\n",
    "#    shutil.rmtree(folder)\n",
    "#os.makedirs(folder)\n",
    "\n",
    "#np.save(folder+\"normal_data.npy\",train_data_sample)\n",
    "#np.save(folder+\"normal_label.npy\",train_label)\n",
    "np.save(folder+\"abnormal_data.npy\",anomaly_data_sample)\n",
    "#np.save(folder+\"abnormal_label.npy\",anomaly_label)\n",
    "np.save(folder+\"normal_test_data.npy\",test_data_sample)\n",
    "#np.save(folder+\"normal_test_label.npy\",test_label)\n",
    "#np.save(folder+\"normal_validate_data.npy\",validate_data_sample)\n",
    "#np.save(folder+\"normal_validate_label.npy\",validate_label)"
   ],
   "metadata": {
    "collapsed": false
   }
  },
  {
   "cell_type": "code",
   "execution_count": 58,
   "outputs": [],
   "source": [
    "## experiment 3\n",
    "normal_data_train = train_data_ori[(train_label_ori !=6) & (train_label_ori !=7) & (train_label_ori !=8) & (train_label_ori !=9) & (train_label_ori !=0),:]\n",
    "np.random.shuffle(normal_data_train)\n",
    "\n",
    "train_data_sample = normal_data_train[:4096,:]\n",
    "validate_data_sample = normal_data_train[-512:,:]\n",
    "\n",
    "anomaly_data = train_data_ori[(train_label_ori ==6) | (train_label_ori ==7) | (train_label_ori ==8) | (train_label_ori ==9) | (train_label_ori ==0),:]\n",
    "np.random.shuffle(anomaly_data)\n",
    "anomaly_data_sample = anomaly_data[:512,:]\n",
    "\n",
    "normal_data_test = test_data_ori[(test_label_ori !=6) & (test_label_ori !=7) & (test_label_ori !=8) & (test_label_ori !=9) & (test_label_ori !=0),:]\n",
    "np.random.shuffle(normal_data_test)\n",
    "test_data_sample = normal_data_test[:512,:]\n",
    "\n",
    "train_label = np.zeros((4096,1))\n",
    "test_label = np.zeros((512,1))\n",
    "validate_label = np.zeros((512,1))\n",
    "anomaly_label = np.zeros((512,1))\n",
    "\n",
    "folder = \"./paperdata_cifar/\" + str(3) + \"/\"\n",
    "#if os.path.exists(folder):\n",
    "#    shutil.rmtree(folder)\n",
    "#os.makedirs(folder)\n",
    "\n",
    "#np.save(folder+\"normal_data.npy\",train_data_sample)\n",
    "#np.save(folder+\"normal_label.npy\",train_label)\n",
    "np.save(folder+\"abnormal_data.npy\",anomaly_data_sample)\n",
    "#np.save(folder+\"abnormal_label.npy\",anomaly_label)\n",
    "np.save(folder+\"normal_test_data.npy\",test_data_sample)\n",
    "#np.save(folder+\"normal_test_label.npy\",test_label)\n",
    "#np.save(folder+\"normal_validate_data.npy\",validate_data_sample)\n",
    "#np.save(folder+\"normal_validate_label.npy\",validate_label)"
   ],
   "metadata": {
    "collapsed": false
   }
  },
  {
   "cell_type": "code",
   "execution_count": 8,
   "outputs": [
    {
     "data": {
      "text/plain": "['airplane',\n 'automobile',\n 'bird',\n 'cat',\n 'deer',\n 'dog',\n 'frog',\n 'horse',\n 'ship',\n 'truck']"
     },
     "execution_count": 8,
     "metadata": {},
     "output_type": "execute_result"
    }
   ],
   "source": [
    "cifar_trainset.classes"
   ],
   "metadata": {
    "collapsed": false
   }
  },
  {
   "cell_type": "code",
   "execution_count": 37,
   "outputs": [
    {
     "name": "stdout",
     "output_type": "stream",
     "text": [
      "True\n"
     ]
    }
   ],
   "source": [],
   "metadata": {
    "collapsed": false
   }
  },
  {
   "cell_type": "code",
   "execution_count": 33,
   "outputs": [],
   "source": [
    "a = np.array([0,1,2])"
   ],
   "metadata": {
    "collapsed": false
   }
  },
  {
   "cell_type": "code",
   "execution_count": 32,
   "outputs": [
    {
     "data": {
      "text/plain": "True"
     },
     "execution_count": 32,
     "metadata": {},
     "output_type": "execute_result"
    }
   ],
   "source": [
    "a.any()"
   ],
   "metadata": {
    "collapsed": false
   }
  },
  {
   "cell_type": "code",
   "execution_count": null,
   "outputs": [],
   "source": [],
   "metadata": {
    "collapsed": false
   }
  }
 ],
 "metadata": {
  "kernelspec": {
   "display_name": "Python 3",
   "language": "python",
   "name": "python3"
  },
  "language_info": {
   "codemirror_mode": {
    "name": "ipython",
    "version": 2
   },
   "file_extension": ".py",
   "mimetype": "text/x-python",
   "name": "python",
   "nbconvert_exporter": "python",
   "pygments_lexer": "ipython2",
   "version": "2.7.6"
  }
 },
 "nbformat": 4,
 "nbformat_minor": 0
}
